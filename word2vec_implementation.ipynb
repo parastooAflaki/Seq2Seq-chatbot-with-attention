{
 "cells": [
  {
   "cell_type": "code",
   "execution_count": 5,
   "metadata": {},
   "outputs": [],
   "source": [
    "def build_word2vec(questions, answers,word2count  ):\n",
    "    for line in questions:\n",
    "        for word in line.split():\n",
    "           if word not in word2count:\n",
    "                word2count[word] = 1\n",
    "           else:\n",
    "                word2count[word] += 1\n",
    "    for line in answers:\n",
    "        for word in line.split():\n",
    "           if word not in word2count:\n",
    "                word2count[word] = 1\n",
    "           else:\n",
    "                word2count[word] += 1\n",
    "    thresh = 5\n",
    "\n",
    "    vocab = {}\n",
    "    word_num = 0\n",
    "    for word, count in word2count.items():\n",
    "       if count >= thresh:\n",
    "           vocab[word] = word_num\n",
    "           word_num += 1\n",
    "    for i in range(len(answers)):\n",
    "       answers[i] = '<SOS> ' + answers[i] + ' <EOS>'\n",
    "\n",
    "    tokens = ['<PAD>', '<EOS>', '<OUT>', '<SOS>']\n",
    "    x = len(vocab)\n",
    "    for token in tokens:\n",
    "       vocab[token] = x\n",
    "       x += 1  \n",
    "\n",
    "    vocab['cameron'] = vocab['<PAD>']\n",
    "    vocab['<PAD>'] = 0\n",
    "\n",
    "    inv_vocab = {w:v for v, w in vocab.items()}\n",
    "    return vocab , inv_vocab , word2count\n"
   ]
  },
  {
   "cell_type": "code",
   "execution_count": null,
   "metadata": {},
   "outputs": [],
   "source": []
  }
 ],
 "metadata": {
  "kernelspec": {
   "display_name": "Python 3",
   "language": "python",
   "name": "python3"
  },
  "language_info": {
   "codemirror_mode": {
    "name": "ipython",
    "version": 3
   },
   "file_extension": ".py",
   "mimetype": "text/x-python",
   "name": "python",
   "nbconvert_exporter": "python",
   "pygments_lexer": "ipython3",
   "version": "3.8.5"
  }
 },
 "nbformat": 4,
 "nbformat_minor": 4
}
